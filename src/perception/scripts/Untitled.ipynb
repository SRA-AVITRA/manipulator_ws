{
 "cells": [
  {
   "cell_type": "code",
   "execution_count": 6,
   "metadata": {},
   "outputs": [],
   "source": [
    "import rospy \n",
    "import sys\n",
    "import cv2\n",
    "from sensor_msgs.msg import Image, CameraInfo\n",
    "from cv_bridge import CvBridge, CvBridgeError\n",
    "import numpy as np "
   ]
  },
  {
   "cell_type": "code",
   "execution_count": 10,
   "metadata": {},
   "outputs": [],
   "source": [
    "node_name = \"cv_bridge_demo\"\n",
    "\n",
    "#Initialize the ros node\n",
    "rospy.init_node(node_name)"
   ]
  },
  {
   "cell_type": "code",
   "execution_count": 12,
   "metadata": {},
   "outputs": [],
   "source": [
    "bridge = CvBridge()\n",
    "kernel = np.ones((2,2),np.uint8)\n",
    "lower_red = np.array([ 110.,   100.,  100.])\n",
    "upper_red = np.array([ 120.,  220.,  210.])"
   ]
  },
  {
   "cell_type": "code",
   "execution_count": 13,
   "metadata": {},
   "outputs": [
    {
     "ename": "NameError",
     "evalue": "name 'ros_image' is not defined",
     "output_type": "error",
     "traceback": [
      "\u001b[0;31m---------------------------------------------------------------------------\u001b[0m",
      "\u001b[0;31mNameError\u001b[0m                                 Traceback (most recent call last)",
      "\u001b[0;32m<ipython-input-13-1d184b4b056a>\u001b[0m in \u001b[0;36m<module>\u001b[0;34m()\u001b[0m\n\u001b[1;32m      1\u001b[0m \u001b[0;34m\u001b[0m\u001b[0m\n\u001b[1;32m      2\u001b[0m \u001b[0;34m\u001b[0m\u001b[0m\n\u001b[0;32m----> 3\u001b[0;31m \u001b[0mframe\u001b[0m \u001b[0;34m=\u001b[0m \u001b[0mbridge\u001b[0m\u001b[0;34m.\u001b[0m\u001b[0mimgmsg_to_cv2\u001b[0m\u001b[0;34m(\u001b[0m\u001b[0mros_image\u001b[0m\u001b[0;34m,\u001b[0m \u001b[0;34m\"bgr8\"\u001b[0m\u001b[0;34m)\u001b[0m\u001b[0;34m\u001b[0m\u001b[0m\n\u001b[0m\u001b[1;32m      4\u001b[0m \u001b[0;34m\u001b[0m\u001b[0m\n\u001b[1;32m      5\u001b[0m \u001b[0mhsv\u001b[0m \u001b[0;34m=\u001b[0m \u001b[0mcv2\u001b[0m\u001b[0;34m.\u001b[0m\u001b[0mcvtColor\u001b[0m\u001b[0;34m(\u001b[0m\u001b[0mframe\u001b[0m\u001b[0;34m,\u001b[0m \u001b[0mcv2\u001b[0m\u001b[0;34m.\u001b[0m\u001b[0mCOLOR_BGR2HSV\u001b[0m\u001b[0;34m)\u001b[0m\u001b[0;34m\u001b[0m\u001b[0m\n",
      "\u001b[0;31mNameError\u001b[0m: name 'ros_image' is not defined"
     ]
    }
   ],
   "source": [
    "\n",
    "\n",
    "frame = bridge.imgmsg_to_cv2(ros_image, \"bgr8\")\n",
    "\n",
    "hsv = cv2.cvtColor(frame, cv2.COLOR_BGR2HSV)\n",
    "mask_red = cv2.inRange(hsv, lower_red, upper_red)\n",
    "mask_red = cv2.bilateralFilter(mask_red,9,75,75)\n",
    "mask_red = cv2.dilate(mask_red,kernel,iterations=1)\n",
    "\n",
    "# cv2.imshow(\"red\",mask_red)\n",
    "# _, contoursRed, hR = cv2.findContours(mask_red, cv2.RETR_TREE, cv2.CHAIN_APPROX_SIMPLE)\n",
    "# idx,current_max,counter = 0, 0, 0\n",
    "# for n in contoursRed:\n",
    "#     a = cv2.contourArea(n)\n",
    "#     if a>current_max:\n",
    "#         current_max=a\n",
    "#         idx = counter\n",
    "#     counter+=1\n",
    "\n",
    "\n",
    "# redIndex, redValue = idx, current_max\n",
    "# cimg = np.zeros_like(frame)\n",
    "# c2.drawContours(cimg,contoursRed, redIndex, (0,0,255),2)\n",
    "# pts = np.where(cimg=255)\n",
    "    \n",
    "#     cimg = np.zeros_like(img)\n",
    "#     cv2.drawContours(cimg, contoursRed, redIndex, color=255, thickness=-1)\n",
    "#     pts = np.where(cimg == 255)\n",
    "#     print(pts)\n",
    "\n",
    "# \tcentroid_pub.publish(pts)\n",
    "# \tcv2.drawContours(frame, contoursRed, redIndex, (0, 0, 255), 2)\n",
    "# \tcv2.imshow(node_name, frame)\n",
    "# \tkeystroke = cv2.waitKey(5)\n",
    "# \tif keystroke  == 27:\n",
    "# \t\trospy.shutdown()\n",
    "# \t\tcv2.DestroyAllWindows()"
   ]
  },
  {
   "cell_type": "code",
   "execution_count": null,
   "metadata": {},
   "outputs": [],
   "source": []
  }
 ],
 "metadata": {
  "kernelspec": {
   "display_name": "Python 2",
   "language": "python",
   "name": "python2"
  },
  "language_info": {
   "codemirror_mode": {
    "name": "ipython",
    "version": 2
   },
   "file_extension": ".py",
   "mimetype": "text/x-python",
   "name": "python",
   "nbconvert_exporter": "python",
   "pygments_lexer": "ipython2",
   "version": "2.7.12"
  }
 },
 "nbformat": 4,
 "nbformat_minor": 2
}
